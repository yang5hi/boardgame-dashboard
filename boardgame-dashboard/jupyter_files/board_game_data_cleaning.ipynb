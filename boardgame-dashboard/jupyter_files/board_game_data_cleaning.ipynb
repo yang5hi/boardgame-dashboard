{
 "cells": [
  {
   "cell_type": "raw",
   "metadata": {},
   "source": [
    "objectid - the identifier on boardgamegeeks.com\n",
    "name - name of the game\n",
    "yearpublished - the year the game was published\n",
    "sortindex - rank of the game on bbg.com\n",
    "minplayer - minumum number of players per the publishers\n",
    "maxplayers - maximum number of players per the publishers\n",
    "minplaytime - minimum playtime required per the publishers\n",
    "maxplaytime - maximum playtime per the publishers\n",
    "minage - minimum age requiremnet per the publishers\n",
    "min_community - minimum players per the community\n",
    "max_community - max players per the community\n",
    "totalvotes - total number of community vote\n",
    "layerage - minimum age requirement per the community\n",
    "languagedependence - a rank of amount of in-game text is required during game play 1: none, 5: unplayable in other language\n",
    "userrated - number of users that have rated the game\n",
    "average - user average rating from 1-10\n",
    "baverage - from the site, determined to be an anti-skewing effort by bgg with system added mid range ratings (from 1-10)\n",
    "stddev - average standard deviation of a rating\n",
    "avgweight - a complexity rating from 1-5 Weight\n",
    "numweights - number of weight votes\n",
    "numgeeklists - number of geeks with game on list\n",
    "numtrading - number of people trading the game\n",
    "numwanting - number of people wanting the game\n",
    "numcomments - number of comments on the site on this game\n",
    "siteviews - number of views on the site\n",
    "numplays - number of times game was played (according to site users?)\n",
    "numplays_month - number of plays per month\n",
    "news - number news articles on game\n",
    "logs - number of blogs regarding game\n",
    "weblink - number of weblinks for the game\n",
    "podcast - number of podcasts on the game\n",
    "label - category of game (mostly boardgame)\n",
    "boardgamedesigner_cnt - count of designers\n",
    "boardgameartist_cnt - artist count\n",
    "boardgamepublisher_cnt - publisher count\n",
    "boardgamehonor_cnt - awards count\n",
    "boardgamecategory_cnt - category count\n",
    "boardgamemechanic_cnt - game mechanics count\n",
    "boardgameexpansion_cnt - expansion count\n",
    "boardgameversion_cnt - version count (languages)\n",
    "boardgamefamily_cnt - game family count\n",
    "boardgamedesigner - list of game designers\n",
    "boardgameartist - list of game artists\n",
    "boardgamepublisher - list of publishers\n",
    "boardgamehonor - list of awards\n",
    "boardgamecategory - list of categories\n",
    "boardgameversion - list of versions\n",
    "boardgamemechanic - a list of mechanics\n",
    "boardgameexpansion - a list of expansions\n",
    "boardgamefamily - a list of boardgames family\n",
    "description - full text description of game\n",
    "gamelink - a link to the game on bgg"
   ]
  },
  {
   "cell_type": "code",
   "execution_count": 1,
   "metadata": {},
   "outputs": [],
   "source": [
    "import pandas as pd\n",
    "import numpy as np\n",
    "import os\n",
    "import re\n",
    "base_url=\"https://boardgamegeek.com\"\n",
    "game_info_df=pd.read_csv(\"data/boardgames2_06022021.csv\")\n",
    "ranking_df=pd.read_csv(\"data/2021-05-29_game_id_rankings.csv\")"
   ]
  },
  {
   "cell_type": "code",
   "execution_count": 2,
   "metadata": {},
   "outputs": [],
   "source": [
    "# get the top 200 rankings\n",
    "ranking_df.drop_duplicates(subset=['BoardGameRank'], inplace=True)\n",
    "ranking_df.set_index('BoardGameRank', inplace=True)\n",
    "ranking_df.fillna(0, inplace=True)\n",
    "rank_int_df=ranking_df.astype('int64')\n",
    "ranking_200_df=rank_int_df.head(200).copy()\n",
    "ranking_200_dict=ranking_200_df.to_dict()\n",
    "ranking_200_json=ranking_200_df.to_json('data/ranking.json')\n",
    "# ranking_200_dict"
   ]
  },
  {
   "cell_type": "code",
   "execution_count": 3,
   "metadata": {},
   "outputs": [
    {
     "name": "stdout",
     "output_type": "stream",
     "text": [
      "there are/is 0 game(s) from top 200 games that not cover in the 20k game info\n"
     ]
    }
   ],
   "source": [
    "# check if any game in the top 200 list is not the 20k game info list\n",
    "game_id_list=game_info_df['objectid']\n",
    "game_20k_list=[*game_id_list]\n",
    "game_20k_set=set(game_20k_list)\n",
    "\n",
    "game_ids=[]\n",
    "for i in range(200):\n",
    "    game_id=ranking_200_df.iloc[i].unique()\n",
    "    game_ids.extend(game_id)\n",
    "unique_game_ids=set(game_ids)\n",
    "unique_game_ids.remove(0)\n",
    "\n",
    "game_out=0\n",
    "for game_id in unique_game_ids:\n",
    "    if game_id not in game_20k_set:\n",
    "        print(f'{game_id} not found')\n",
    "        game_out+=1\n",
    "print(f'there are/is {game_out} game(s) from top 200 games that not cover in the 20k game info')"
   ]
  },
  {
   "cell_type": "code",
   "execution_count": 4,
   "metadata": {},
   "outputs": [],
   "source": [
    "# add a column \"is_top200\" to game_info_df\n",
    "is_top200_list=[]\n",
    "for game_id in game_info_df['objectid']:\n",
    "    if game_id in unique_game_ids:\n",
    "        is_top200_list.append(True)\n",
    "    else:\n",
    "        is_top200_list.append(False)\n",
    "game_info_df['is_top200']=is_top200_list"
   ]
  },
  {
   "cell_type": "code",
   "execution_count": 5,
   "metadata": {},
   "outputs": [
    {
     "name": "stderr",
     "output_type": "stream",
     "text": [
      "<ipython-input-5-996642ce1921>:6: DeprecationWarning: invalid escape sequence '\\/'\n",
      "  c=(b.encode('utf-8').decode('unicode-escape'))\n",
      "<ipython-input-5-996642ce1921>:6: DeprecationWarning: invalid escape sequence '\\W'\n",
      "  c=(b.encode('utf-8').decode('unicode-escape'))\n",
      "<ipython-input-5-996642ce1921>:6: DeprecationWarning: invalid escape sequence '\\T'\n",
      "  c=(b.encode('utf-8').decode('unicode-escape'))\n",
      "<ipython-input-5-996642ce1921>:6: DeprecationWarning: invalid escape sequence '\\B'\n",
      "  c=(b.encode('utf-8').decode('unicode-escape'))\n",
      "<ipython-input-5-996642ce1921>:6: DeprecationWarning: invalid escape sequence '\\A'\n",
      "  c=(b.encode('utf-8').decode('unicode-escape'))\n",
      "<ipython-input-5-996642ce1921>:6: DeprecationWarning: invalid escape sequence '\\O'\n",
      "  c=(b.encode('utf-8').decode('unicode-escape'))\n",
      "<ipython-input-5-996642ce1921>:6: DeprecationWarning: invalid escape sequence '\\D'\n",
      "  c=(b.encode('utf-8').decode('unicode-escape'))\n",
      "<ipython-input-5-996642ce1921>:6: DeprecationWarning: invalid escape sequence '\\I'\n",
      "  c=(b.encode('utf-8').decode('unicode-escape'))\n"
     ]
    }
   ],
   "source": [
    "# convert unicode to printable format\n",
    "a=game_info_df['name']\n",
    "kk=[]\n",
    "for b in a:\n",
    "    b=re.sub('\\s\\s+', ' ', b)\n",
    "    try:\n",
    "        c=(b.encode('utf-8').decode('unicode-escape'))\n",
    "        kk.append(c)\n",
    "    except:\n",
    "        x=b.replace('\\\\u','/u').replace('\\\\', \"\").replace('/u','\\\\u')\n",
    "        c=(x.encode('utf-8').decode('unicode-escape'))\n",
    "        kk.append(c)\n",
    "game_info_df['game_name']=kk"
   ]
  },
  {
   "cell_type": "code",
   "execution_count": 6,
   "metadata": {},
   "outputs": [],
   "source": [
    "bg_cat=game_info_df['boardgamecategory']\n",
    "game_info_df['boardgamecategory']=[cc[1:-1].replace(\"'\",'').split(\",\") for cc in bg_cat]\n",
    "bg_pub=game_info_df['boardgamepublisher']\n",
    "game_info_df['boardgamepublisher']=[cc[1:-1].replace(\"'\",'').split(\",\") for cc in bg_pub]\n",
    "bg_mec=game_info_df['boardgamemechanic']\n",
    "game_info_df['boardgamemechanic']=[cc[1:-1].replace(\"'\",'').split(\",\") for cc in bg_mec]"
   ]
  },
  {
   "cell_type": "code",
   "execution_count": 7,
   "metadata": {
    "scrolled": false
   },
   "outputs": [],
   "source": [
    "game_info_selected_df=game_info_df[['objectid', 'game_name', 'description', 'yearpublished','is_top200',\n",
    "                                    'average','numplays','maxplaytime','minage', 'languagedependence',\n",
    "                                    'minplayers','maxplayers', 'minplaytime',  \n",
    "                                    'news', 'blogs', 'weblink','podcast', \n",
    "                                    'boardgamepublisher', 'boardgamecategory', 'boardgamemechanic','gamelink']].copy()\n",
    "game_info_selected_df.drop_duplicates(subset=['objectid'], inplace=True)\n",
    "game_info_selected_df=game_info_selected_df.sort_values(by=['game_name']).reset_index(drop=True)\n",
    "game_info_json=game_info_selected_df.T.to_json('data/game_info.json')\n",
    "game_info_dict=game_info_selected_df.T.to_dict()\n",
    "# game_info_dict"
   ]
  },
  {
   "cell_type": "code",
   "execution_count": null,
   "metadata": {},
   "outputs": [],
   "source": []
  }
 ],
 "metadata": {
  "kernelspec": {
   "display_name": "Python 3",
   "language": "python",
   "name": "python3"
  },
  "language_info": {
   "codemirror_mode": {
    "name": "ipython",
    "version": 3
   },
   "file_extension": ".py",
   "mimetype": "text/x-python",
   "name": "python",
   "nbconvert_exporter": "python",
   "pygments_lexer": "ipython3",
   "version": "3.8.10"
  }
 },
 "nbformat": 4,
 "nbformat_minor": 4
}
