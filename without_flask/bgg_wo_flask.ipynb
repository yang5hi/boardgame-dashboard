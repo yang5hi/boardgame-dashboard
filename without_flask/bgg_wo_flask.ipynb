{
 "cells": [
  {
   "cell_type": "code",
   "execution_count": 1,
   "metadata": {},
   "outputs": [],
   "source": [
    "# Dependencies\n",
    "import time\n",
    "import pandas as pd\n",
    "from bs4 import BeautifulSoup\n",
    "import requests\n",
    "import numpy as np\n",
    "import os\n",
    "import re\n",
    "\n",
    "game_info_df=pd.read_csv(\"../bgg_csv/boardgames2_06022021.csv\")\n",
    "ranking_df=pd.read_csv(\"../bgg_csv/2021-05-29_game_id_rankings.csv\")"
   ]
  },
  {
   "cell_type": "code",
   "execution_count": 2,
   "metadata": {},
   "outputs": [
    {
     "name": "stdout",
     "output_type": "stream",
     "text": [
      "news_title: Zip Back and Forth in TRAILS, and Hunt Humans to Satisfy The Hunger\n",
      "featured_image_url: https://cf.geekdo-images.com/alEgV88cpqFtaHAklI6lbw__medium/img/7u112Ar9dnLKQ1WKAa9yYPjiW0w=/fit-in/500x500/filters:no_upscale():strip_icc()/pic6214088.jpg\n"
     ]
    }
   ],
   "source": [
    " # URL of page to be scraped\n",
    "url = 'https://boardgamegeek.com/blog/1/boardgamegeek-news'\n",
    "# Retrieve page with the requests module\n",
    "response = requests.get(url)\n",
    "# Create BeautifulSoup object; parse with 'lxml'\n",
    "soup = BeautifulSoup(response.text, 'html.parser')\n",
    "news_titles = soup.find(class_='blog_post')\n",
    "# find the news title and image\n",
    "news_title = news_titles.find(class_='post_title').text.strip('\\n')\n",
    "featured_image_url = soup.find(class_=\"post-img\").a.img['src']\n",
    "print(f'news_title: {news_title}')\n",
    "print(f\"featured_image_url: {featured_image_url}\")\n",
    "news_df=pd.DataFrame([{\"news_title\":news_title, \"featured_image_url\":featured_image_url}])\n",
    "news_df.to_json(\"data/news.json\")"
   ]
  },
  {
   "cell_type": "code",
   "execution_count": 3,
   "metadata": {},
   "outputs": [],
   "source": [
    "# get the top 200 rankings\n",
    "ranking_df.drop_duplicates(subset=['BoardGameRank'], inplace=True)\n",
    "ranking_df.fillna(0, inplace=True)\n",
    "ranking_int_df=ranking_df.astype('int64')\n",
    "ranking_int_df['BoardGameRank'] = ranking_int_df.BoardGameRank.astype(str)\n",
    "ranking_200_df=ranking_int_df.head(200).copy()\n",
    "ranking_200_df.set_index('BoardGameRank', inplace=True)\n",
    "ranking_200_df.to_json('data/ranking.json')"
   ]
  },
  {
   "cell_type": "code",
   "execution_count": 4,
   "metadata": {},
   "outputs": [
    {
     "name": "stdout",
     "output_type": "stream",
     "text": [
      "there are/is 0 game(s) from top 200 games that not cover in the 20k game info\n"
     ]
    }
   ],
   "source": [
    "# check if any game in the top 200 list is not the 20k game info list\n",
    "game_id_list=game_info_df['objectid']\n",
    "game_20k_list=[*game_id_list]\n",
    "game_20k_set=set(game_20k_list)\n",
    "\n",
    "game_ids=[]\n",
    "for i in range(200):\n",
    "    game_id=ranking_200_df.iloc[i].unique()\n",
    "    game_ids.extend(game_id)\n",
    "unique_game_ids=set(game_ids)\n",
    "unique_game_ids.remove(0)\n",
    "\n",
    "game_out=0\n",
    "for game_id in unique_game_ids:\n",
    "    if game_id not in game_20k_set:\n",
    "        print(f'{game_id} not found')\n",
    "        game_out+=1\n",
    "print(f'there are/is {game_out} game(s) from top 200 games that not cover in the 20k game info')"
   ]
  },
  {
   "cell_type": "code",
   "execution_count": 5,
   "metadata": {},
   "outputs": [],
   "source": [
    "# add a column \"is_top200\" to game_info_df\n",
    "is_top200_list=[]\n",
    "for game_id in game_info_df['objectid']:\n",
    "    if game_id in unique_game_ids:\n",
    "        is_top200_list.append(True)\n",
    "    else:\n",
    "        is_top200_list.append(False)\n",
    "game_info_df['is_top200']=is_top200_list"
   ]
  },
  {
   "cell_type": "code",
   "execution_count": 6,
   "metadata": {},
   "outputs": [
    {
     "name": "stderr",
     "output_type": "stream",
     "text": [
      "<ipython-input-6-e81dacafd4eb>:7: DeprecationWarning: invalid escape sequence '\\/'\n",
      "  c=(b.encode('utf-8').decode('unicode-escape'))\n",
      "<ipython-input-6-e81dacafd4eb>:7: DeprecationWarning: invalid escape sequence '\\W'\n",
      "  c=(b.encode('utf-8').decode('unicode-escape'))\n",
      "<ipython-input-6-e81dacafd4eb>:7: DeprecationWarning: invalid escape sequence '\\T'\n",
      "  c=(b.encode('utf-8').decode('unicode-escape'))\n",
      "<ipython-input-6-e81dacafd4eb>:7: DeprecationWarning: invalid escape sequence '\\B'\n",
      "  c=(b.encode('utf-8').decode('unicode-escape'))\n",
      "<ipython-input-6-e81dacafd4eb>:7: DeprecationWarning: invalid escape sequence '\\A'\n",
      "  c=(b.encode('utf-8').decode('unicode-escape'))\n",
      "<ipython-input-6-e81dacafd4eb>:7: DeprecationWarning: invalid escape sequence '\\O'\n",
      "  c=(b.encode('utf-8').decode('unicode-escape'))\n",
      "<ipython-input-6-e81dacafd4eb>:7: DeprecationWarning: invalid escape sequence '\\D'\n",
      "  c=(b.encode('utf-8').decode('unicode-escape'))\n",
      "<ipython-input-6-e81dacafd4eb>:7: DeprecationWarning: invalid escape sequence '\\I'\n",
      "  c=(b.encode('utf-8').decode('unicode-escape'))\n"
     ]
    }
   ],
   "source": [
    "# convert unicode to printable format\n",
    "a=game_info_df['name']\n",
    "kk=[]\n",
    "for b in a:\n",
    "    b=re.sub('\\s\\s+', ' ', b)\n",
    "    try:\n",
    "        c=(b.encode('utf-8').decode('unicode-escape'))\n",
    "        kk.append(c)\n",
    "    except:\n",
    "        x=b.replace('\\\\u','/u').replace('\\\\', \"\").replace('/u','\\\\u')\n",
    "        c=(x.encode('utf-8').decode('unicode-escape'))\n",
    "        kk.append(c)\n",
    "game_info_df['game_name']=kk"
   ]
  },
  {
   "cell_type": "code",
   "execution_count": 7,
   "metadata": {},
   "outputs": [],
   "source": [
    "# parse the string into list of strings\n",
    "bg_cat=game_info_df['boardgamecategory']\n",
    "game_info_df['boardgamecategory']=[cc[1:-1].replace(\"'\",'').split(\",\") for cc in bg_cat]\n",
    "bg_pub=game_info_df['boardgamepublisher']\n",
    "game_info_df['boardgamepublisher']=[cc[1:-1].replace(\"'\",'').split(\",\") for cc in bg_pub]\n",
    "bg_mec=game_info_df['boardgamemechanic']\n",
    "game_info_df['boardgamemechanic']=[cc[1:-1].replace(\"'\",'').split(\",\") for cc in bg_mec]"
   ]
  },
  {
   "cell_type": "code",
   "execution_count": 8,
   "metadata": {
    "scrolled": false
   },
   "outputs": [],
   "source": [
    "# get only the needed columns\n",
    "game_info_selected_df=game_info_df[['objectid', 'game_name', 'description', 'yearpublished','is_top200',\n",
    "                                    'average','numplays','maxplaytime','minage', 'languagedependence',\n",
    "                                    'minplayers','maxplayers', 'minplaytime',  \n",
    "                                    'news', 'blogs', 'weblink','podcast', \n",
    "                                    'boardgamepublisher', 'boardgamecategory', 'boardgamemechanic','gamelink']].copy()\n",
    "# drop the duplicates based on objectid\n",
    "game_info_selected_df.drop_duplicates(subset=['objectid'], inplace=True)\n",
    "game_info_selected_df['objectid'] = game_info_selected_df.objectid.astype(str)\n",
    "game_info_selected_df=game_info_selected_df.sort_values(by=['game_name']).reset_index(drop=True)\n",
    "game_info_selected_df.set_index('objectid', inplace=True)\n",
    "game_info_selected_df.T.to_json('data/game_info.json')"
   ]
  }
 ],
 "metadata": {
  "kernelspec": {
   "display_name": "Python 3",
   "language": "python",
   "name": "python3"
  },
  "language_info": {
   "codemirror_mode": {
    "name": "ipython",
    "version": 3
   },
   "file_extension": ".py",
   "mimetype": "text/x-python",
   "name": "python",
   "nbconvert_exporter": "python",
   "pygments_lexer": "ipython3",
   "version": "3.8.10"
  }
 },
 "nbformat": 4,
 "nbformat_minor": 4
}
